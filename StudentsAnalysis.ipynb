{
 "cells": [
  {
   "cell_type": "code",
   "execution_count": 1,
   "id": "d88158e3-b61d-441b-b511-eebf8a373e75",
   "metadata": {},
   "outputs": [],
   "source": [
    "import pandas as pd\n",
    "%matplotlib inline\n",
    "import matplotlib.pyplot as plt\n",
    "import seaborn as sns"
   ]
  },
  {
   "cell_type": "code",
   "execution_count": 2,
   "id": "2e913c0b-2d85-4631-b3c9-877a640397d5",
   "metadata": {},
   "outputs": [],
   "source": [
    "Student_Feedback = pd.read_csv(r\"C:\\Users\\Hp\\Desktop\\future_interns\\studentsfedd\\student_feedback.csv\", encoding= 'utf-8')"
   ]
  },
  {
   "cell_type": "code",
   "execution_count": 3,
   "id": "8200523b-77f1-48c0-b93e-78be17063b86",
   "metadata": {},
   "outputs": [],
   "source": [
    "StudenSatisfactiont_survey = pd.read_csv(r\"C:\\Users\\Hp\\Desktop\\future_interns\\studentsfedd\\studentsurvey\\Student_Satisfaction_Survey.csv\", encoding= 'latin-1')"
   ]
  },
  {
   "cell_type": "code",
   "execution_count": 30,
   "id": "88be28e2-6757-4285-8a2c-193645c05171",
   "metadata": {
    "scrolled": true
   },
   "outputs": [
    {
     "data": {
      "text/html": [
       "<div>\n",
       "<style scoped>\n",
       "    .dataframe tbody tr th:only-of-type {\n",
       "        vertical-align: middle;\n",
       "    }\n",
       "\n",
       "    .dataframe tbody tr th {\n",
       "        vertical-align: top;\n",
       "    }\n",
       "\n",
       "    .dataframe thead th {\n",
       "        text-align: right;\n",
       "    }\n",
       "</style>\n",
       "<table border=\"1\" class=\"dataframe\">\n",
       "  <thead>\n",
       "    <tr style=\"text-align: right;\">\n",
       "      <th></th>\n",
       "      <th>Unnamed: 0</th>\n",
       "      <th>Student ID</th>\n",
       "      <th>Well versed with the subject</th>\n",
       "      <th>Explains concepts in an understandable way</th>\n",
       "      <th>Use of presentations</th>\n",
       "      <th>Degree of difficulty of assignments</th>\n",
       "      <th>Solves doubts willingly</th>\n",
       "      <th>Structuring of the course</th>\n",
       "      <th>Provides support for students going above and beyond</th>\n",
       "      <th>Course recommendation based on relevance</th>\n",
       "    </tr>\n",
       "  </thead>\n",
       "  <tbody>\n",
       "    <tr>\n",
       "      <th>0</th>\n",
       "      <td>0</td>\n",
       "      <td>340</td>\n",
       "      <td>5</td>\n",
       "      <td>2</td>\n",
       "      <td>7</td>\n",
       "      <td>6</td>\n",
       "      <td>9</td>\n",
       "      <td>2</td>\n",
       "      <td>1</td>\n",
       "      <td>8</td>\n",
       "    </tr>\n",
       "    <tr>\n",
       "      <th>1</th>\n",
       "      <td>1</td>\n",
       "      <td>253</td>\n",
       "      <td>6</td>\n",
       "      <td>5</td>\n",
       "      <td>8</td>\n",
       "      <td>6</td>\n",
       "      <td>2</td>\n",
       "      <td>1</td>\n",
       "      <td>2</td>\n",
       "      <td>9</td>\n",
       "    </tr>\n",
       "    <tr>\n",
       "      <th>2</th>\n",
       "      <td>2</td>\n",
       "      <td>680</td>\n",
       "      <td>7</td>\n",
       "      <td>7</td>\n",
       "      <td>6</td>\n",
       "      <td>5</td>\n",
       "      <td>4</td>\n",
       "      <td>2</td>\n",
       "      <td>3</td>\n",
       "      <td>1</td>\n",
       "    </tr>\n",
       "    <tr>\n",
       "      <th>3</th>\n",
       "      <td>3</td>\n",
       "      <td>806</td>\n",
       "      <td>9</td>\n",
       "      <td>6</td>\n",
       "      <td>7</td>\n",
       "      <td>1</td>\n",
       "      <td>5</td>\n",
       "      <td>9</td>\n",
       "      <td>4</td>\n",
       "      <td>6</td>\n",
       "    </tr>\n",
       "    <tr>\n",
       "      <th>4</th>\n",
       "      <td>4</td>\n",
       "      <td>632</td>\n",
       "      <td>8</td>\n",
       "      <td>10</td>\n",
       "      <td>8</td>\n",
       "      <td>4</td>\n",
       "      <td>6</td>\n",
       "      <td>6</td>\n",
       "      <td>9</td>\n",
       "      <td>9</td>\n",
       "    </tr>\n",
       "  </tbody>\n",
       "</table>\n",
       "</div>"
      ],
      "text/plain": [
       "   Unnamed: 0  Student ID  Well versed with the subject  \\\n",
       "0           0         340                             5   \n",
       "1           1         253                             6   \n",
       "2           2         680                             7   \n",
       "3           3         806                             9   \n",
       "4           4         632                             8   \n",
       "\n",
       "   Explains concepts in an understandable way  Use of presentations  \\\n",
       "0                                           2                     7   \n",
       "1                                           5                     8   \n",
       "2                                           7                     6   \n",
       "3                                           6                     7   \n",
       "4                                          10                     8   \n",
       "\n",
       "   Degree of difficulty of assignments  Solves doubts willingly  \\\n",
       "0                                    6                        9   \n",
       "1                                    6                        2   \n",
       "2                                    5                        4   \n",
       "3                                    1                        5   \n",
       "4                                    4                        6   \n",
       "\n",
       "   Structuring of the course  \\\n",
       "0                          2   \n",
       "1                          1   \n",
       "2                          2   \n",
       "3                          9   \n",
       "4                          6   \n",
       "\n",
       "   Provides support for students going above and beyond  \\\n",
       "0                                                  1      \n",
       "1                                                  2      \n",
       "2                                                  3      \n",
       "3                                                  4      \n",
       "4                                                  9      \n",
       "\n",
       "   Course recommendation based on relevance  \n",
       "0                                         8  \n",
       "1                                         9  \n",
       "2                                         1  \n",
       "3                                         6  \n",
       "4                                         9  "
      ]
     },
     "execution_count": 30,
     "metadata": {},
     "output_type": "execute_result"
    }
   ],
   "source": [
    "Student_Feedback.head()"
   ]
  },
  {
   "cell_type": "code",
   "execution_count": 29,
   "id": "5cbb1e2f-21fa-4b47-a68f-4ee324543d3d",
   "metadata": {
    "scrolled": true
   },
   "outputs": [
    {
     "data": {
      "text/html": [
       "<div>\n",
       "<style scoped>\n",
       "    .dataframe tbody tr th:only-of-type {\n",
       "        vertical-align: middle;\n",
       "    }\n",
       "\n",
       "    .dataframe tbody tr th {\n",
       "        vertical-align: top;\n",
       "    }\n",
       "\n",
       "    .dataframe thead th {\n",
       "        text-align: right;\n",
       "    }\n",
       "</style>\n",
       "<table border=\"1\" class=\"dataframe\">\n",
       "  <thead>\n",
       "    <tr style=\"text-align: right;\">\n",
       "      <th></th>\n",
       "      <th>SN</th>\n",
       "      <th>Total Feedback Given</th>\n",
       "      <th>Total Configured</th>\n",
       "      <th>Questions</th>\n",
       "      <th>Weightage 1</th>\n",
       "      <th>Weightage 2</th>\n",
       "      <th>Weightage 3</th>\n",
       "      <th>Weightage 4</th>\n",
       "      <th>Weightage 5</th>\n",
       "      <th>Average/ Percentage</th>\n",
       "      <th>Course Name</th>\n",
       "      <th>Basic Course</th>\n",
       "    </tr>\n",
       "  </thead>\n",
       "  <tbody>\n",
       "    <tr>\n",
       "      <th>0</th>\n",
       "      <td>1</td>\n",
       "      <td>1</td>\n",
       "      <td>12</td>\n",
       "      <td>How much of the syllabus was covered in the cl...</td>\n",
       "      <td>0</td>\n",
       "      <td>0</td>\n",
       "      <td>1</td>\n",
       "      <td>0</td>\n",
       "      <td>0</td>\n",
       "      <td>3.00 / 60.00</td>\n",
       "      <td>FY B.VOC FOOD TECHNOLOGY</td>\n",
       "      <td>B.VOC FOOD TECHNOLOGY</td>\n",
       "    </tr>\n",
       "    <tr>\n",
       "      <th>1</th>\n",
       "      <td>2</td>\n",
       "      <td>1</td>\n",
       "      <td>12</td>\n",
       "      <td>How well did the teachers prepare for the clas...</td>\n",
       "      <td>0</td>\n",
       "      <td>0</td>\n",
       "      <td>0</td>\n",
       "      <td>0</td>\n",
       "      <td>1</td>\n",
       "      <td>5.00 / 100.00</td>\n",
       "      <td>FY B.VOC FOOD TECHNOLOGY</td>\n",
       "      <td>B.VOC FOOD TECHNOLOGY</td>\n",
       "    </tr>\n",
       "    <tr>\n",
       "      <th>2</th>\n",
       "      <td>3</td>\n",
       "      <td>1</td>\n",
       "      <td>12</td>\n",
       "      <td>How well were the teachers able to communicate?</td>\n",
       "      <td>0</td>\n",
       "      <td>0</td>\n",
       "      <td>0</td>\n",
       "      <td>0</td>\n",
       "      <td>1</td>\n",
       "      <td>5.00 / 100.00</td>\n",
       "      <td>FY B.VOC FOOD TECHNOLOGY</td>\n",
       "      <td>B.VOC FOOD TECHNOLOGY</td>\n",
       "    </tr>\n",
       "    <tr>\n",
       "      <th>3</th>\n",
       "      <td>4</td>\n",
       "      <td>1</td>\n",
       "      <td>12</td>\n",
       "      <td>The teachers approach to teaching can best be...</td>\n",
       "      <td>0</td>\n",
       "      <td>0</td>\n",
       "      <td>1</td>\n",
       "      <td>0</td>\n",
       "      <td>0</td>\n",
       "      <td>3.00 / 60.00</td>\n",
       "      <td>FY B.VOC FOOD TECHNOLOGY</td>\n",
       "      <td>B.VOC FOOD TECHNOLOGY</td>\n",
       "    </tr>\n",
       "    <tr>\n",
       "      <th>4</th>\n",
       "      <td>5</td>\n",
       "      <td>1</td>\n",
       "      <td>12</td>\n",
       "      <td>Fairness of the internal evaluation process by...</td>\n",
       "      <td>0</td>\n",
       "      <td>0</td>\n",
       "      <td>0</td>\n",
       "      <td>1</td>\n",
       "      <td>0</td>\n",
       "      <td>4.00 / 80.00</td>\n",
       "      <td>FY B.VOC FOOD TECHNOLOGY</td>\n",
       "      <td>B.VOC FOOD TECHNOLOGY</td>\n",
       "    </tr>\n",
       "  </tbody>\n",
       "</table>\n",
       "</div>"
      ],
      "text/plain": [
       "   SN  Total Feedback Given  Total Configured  \\\n",
       "0   1                     1                12   \n",
       "1   2                     1                12   \n",
       "2   3                     1                12   \n",
       "3   4                     1                12   \n",
       "4   5                     1                12   \n",
       "\n",
       "                                           Questions  Weightage 1  \\\n",
       "0  How much of the syllabus was covered in the cl...            0   \n",
       "1  How well did the teachers prepare for the clas...            0   \n",
       "2    How well were the teachers able to communicate?            0   \n",
       "3  The teachers approach to teaching can best be...            0   \n",
       "4  Fairness of the internal evaluation process by...            0   \n",
       "\n",
       "   Weightage 2  Weightage 3  Weightage 4  Weightage 5 Average/ Percentage  \\\n",
       "0            0            1            0            0        3.00 / 60.00   \n",
       "1            0            0            0            1       5.00 / 100.00   \n",
       "2            0            0            0            1       5.00 / 100.00   \n",
       "3            0            1            0            0        3.00 / 60.00   \n",
       "4            0            0            1            0        4.00 / 80.00   \n",
       "\n",
       "               Course Name            Basic Course  \n",
       "0  FY B.VOC FOOD TECHNOLOGY  B.VOC FOOD TECHNOLOGY  \n",
       "1  FY B.VOC FOOD TECHNOLOGY  B.VOC FOOD TECHNOLOGY  \n",
       "2  FY B.VOC FOOD TECHNOLOGY  B.VOC FOOD TECHNOLOGY  \n",
       "3  FY B.VOC FOOD TECHNOLOGY  B.VOC FOOD TECHNOLOGY  \n",
       "4  FY B.VOC FOOD TECHNOLOGY  B.VOC FOOD TECHNOLOGY  "
      ]
     },
     "execution_count": 29,
     "metadata": {},
     "output_type": "execute_result"
    }
   ],
   "source": [
    "StudenSatisfactiont_survey.head()"
   ]
  },
  {
   "cell_type": "code",
   "execution_count": 11,
   "id": "e822ecca-9471-4285-acb9-eee3e95c2a6c",
   "metadata": {},
   "outputs": [
    {
     "data": {
      "text/plain": [
       "(580, 12)"
      ]
     },
     "execution_count": 11,
     "metadata": {},
     "output_type": "execute_result"
    }
   ],
   "source": [
    "StudenSatisfactiont_survey.shape"
   ]
  },
  {
   "cell_type": "code",
   "execution_count": 16,
   "id": "35d6b1eb-b674-481d-9452-9b20c3a76ce3",
   "metadata": {
    "scrolled": true
   },
   "outputs": [
    {
     "data": {
      "text/plain": [
       "<bound method DataFrame.info of      SN  Total Feedback Given  Total Configured  \\\n",
       "0     1                     1                12   \n",
       "1     2                     1                12   \n",
       "2     3                     1                12   \n",
       "3     4                     1                12   \n",
       "4     5                     1                12   \n",
       "..   ..                   ...               ...   \n",
       "575  16                     9               170   \n",
       "576  17                     9               170   \n",
       "577  18                     9               170   \n",
       "578  19                     9               170   \n",
       "579  20                     9               170   \n",
       "\n",
       "                                             Questions  Weightage 1  \\\n",
       "0    How much of the syllabus was covered in the cl...            0   \n",
       "1    How well did the teachers prepare for the clas...            0   \n",
       "2      How well were the teachers able to communicate?            0   \n",
       "3    The teachers approach to teaching can best be...            0   \n",
       "4    Fairness of the internal evaluation process by...            0   \n",
       "..                                                 ...          ...   \n",
       "575  The institute/ teachers use student-centric me...            1   \n",
       "576  Teachers encourage you to participate in extra...            0   \n",
       "577  Efforts are made by the institute/ teachers to...            0   \n",
       "578  What percentage of teachers use ICT tools such...            0   \n",
       "579  The overall quality of the teaching-learning p...            0   \n",
       "\n",
       "     Weightage 2  Weightage 3  Weightage 4  Weightage 5 Average/ Percentage  \\\n",
       "0              0            1            0            0        3.00 / 60.00   \n",
       "1              0            0            0            1       5.00 / 100.00   \n",
       "2              0            0            0            1       5.00 / 100.00   \n",
       "3              0            1            0            0        3.00 / 60.00   \n",
       "4              0            0            1            0        4.00 / 80.00   \n",
       "..           ...          ...          ...          ...                 ...   \n",
       "575            0            0            2            6        4.33 / 86.67   \n",
       "576            0            0            3            6        4.67 / 93.33   \n",
       "577            0            1            2            6        4.56 / 91.11   \n",
       "578            0            1            3            5        4.44 / 88.89   \n",
       "579            0            1            2            6        4.56 / 91.11   \n",
       "\n",
       "                 Course Name            Basic Course  \n",
       "0    FY B.VOC FOOD TECHNOLOGY  B.VOC FOOD TECHNOLOGY  \n",
       "1    FY B.VOC FOOD TECHNOLOGY  B.VOC FOOD TECHNOLOGY  \n",
       "2    FY B.VOC FOOD TECHNOLOGY  B.VOC FOOD TECHNOLOGY  \n",
       "3    FY B.VOC FOOD TECHNOLOGY  B.VOC FOOD TECHNOLOGY  \n",
       "4    FY B.VOC FOOD TECHNOLOGY  B.VOC FOOD TECHNOLOGY  \n",
       "..                        ...                    ...  \n",
       "575                    TYBSC     BACHELOR OF SCIENCE  \n",
       "576                    TYBSC     BACHELOR OF SCIENCE  \n",
       "577                    TYBSC     BACHELOR OF SCIENCE  \n",
       "578                    TYBSC     BACHELOR OF SCIENCE  \n",
       "579                    TYBSC     BACHELOR OF SCIENCE  \n",
       "\n",
       "[580 rows x 12 columns]>"
      ]
     },
     "execution_count": 16,
     "metadata": {},
     "output_type": "execute_result"
    }
   ],
   "source": [
    "StudenSatisfactiont_survey.info"
   ]
  },
  {
   "cell_type": "code",
   "execution_count": 14,
   "id": "84b9e4c3-b220-4342-b924-ede5bcb8360b",
   "metadata": {
    "scrolled": true
   },
   "outputs": [
    {
     "data": {
      "text/plain": [
       "<bound method DataFrame.nunique of      SN  Total Feedback Given  Total Configured  \\\n",
       "0     1                     1                12   \n",
       "1     2                     1                12   \n",
       "2     3                     1                12   \n",
       "3     4                     1                12   \n",
       "4     5                     1                12   \n",
       "..   ..                   ...               ...   \n",
       "575  16                     9               170   \n",
       "576  17                     9               170   \n",
       "577  18                     9               170   \n",
       "578  19                     9               170   \n",
       "579  20                     9               170   \n",
       "\n",
       "                                             Questions  Weightage 1  \\\n",
       "0    How much of the syllabus was covered in the cl...            0   \n",
       "1    How well did the teachers prepare for the clas...            0   \n",
       "2      How well were the teachers able to communicate?            0   \n",
       "3    The teachers approach to teaching can best be...            0   \n",
       "4    Fairness of the internal evaluation process by...            0   \n",
       "..                                                 ...          ...   \n",
       "575  The institute/ teachers use student-centric me...            1   \n",
       "576  Teachers encourage you to participate in extra...            0   \n",
       "577  Efforts are made by the institute/ teachers to...            0   \n",
       "578  What percentage of teachers use ICT tools such...            0   \n",
       "579  The overall quality of the teaching-learning p...            0   \n",
       "\n",
       "     Weightage 2  Weightage 3  Weightage 4  Weightage 5 Average/ Percentage  \\\n",
       "0              0            1            0            0        3.00 / 60.00   \n",
       "1              0            0            0            1       5.00 / 100.00   \n",
       "2              0            0            0            1       5.00 / 100.00   \n",
       "3              0            1            0            0        3.00 / 60.00   \n",
       "4              0            0            1            0        4.00 / 80.00   \n",
       "..           ...          ...          ...          ...                 ...   \n",
       "575            0            0            2            6        4.33 / 86.67   \n",
       "576            0            0            3            6        4.67 / 93.33   \n",
       "577            0            1            2            6        4.56 / 91.11   \n",
       "578            0            1            3            5        4.44 / 88.89   \n",
       "579            0            1            2            6        4.56 / 91.11   \n",
       "\n",
       "                 Course Name            Basic Course  \n",
       "0    FY B.VOC FOOD TECHNOLOGY  B.VOC FOOD TECHNOLOGY  \n",
       "1    FY B.VOC FOOD TECHNOLOGY  B.VOC FOOD TECHNOLOGY  \n",
       "2    FY B.VOC FOOD TECHNOLOGY  B.VOC FOOD TECHNOLOGY  \n",
       "3    FY B.VOC FOOD TECHNOLOGY  B.VOC FOOD TECHNOLOGY  \n",
       "4    FY B.VOC FOOD TECHNOLOGY  B.VOC FOOD TECHNOLOGY  \n",
       "..                        ...                    ...  \n",
       "575                    TYBSC     BACHELOR OF SCIENCE  \n",
       "576                    TYBSC     BACHELOR OF SCIENCE  \n",
       "577                    TYBSC     BACHELOR OF SCIENCE  \n",
       "578                    TYBSC     BACHELOR OF SCIENCE  \n",
       "579                    TYBSC     BACHELOR OF SCIENCE  \n",
       "\n",
       "[580 rows x 12 columns]>"
      ]
     },
     "execution_count": 14,
     "metadata": {},
     "output_type": "execute_result"
    }
   ],
   "source": [
    "StudenSatisfactiont_survey.nunique"
   ]
  },
  {
   "cell_type": "code",
   "execution_count": 20,
   "id": "8c9b6a49-7d3d-44be-b5b7-45e14411de05",
   "metadata": {
    "scrolled": true
   },
   "outputs": [
    {
     "data": {
      "text/plain": [
       "array(['B.VOC FOOD TECHNOLOGY', 'BACHELOR OF ARTS',\n",
       "       'BACHELOR OF COMMERCE (ACCOUNTING AND FINANCE)',\n",
       "       'BACHELOR OF COMMERCE (BANKING AND INSURANCE)',\n",
       "       'BACHELOR OF MANAGEMENT STUDIES', 'BACHELOR OF SCIENCE',\n",
       "       'MA PSYCHOLOGY', 'MSC COMPUTER SCIENCE',\n",
       "       'MSC ANALYTICAL CHEMISTRY', 'MSC DATA SCIENCE',\n",
       "       'MSC INFORMATION TECHNOLOGY', 'MSC MICROBIOLOGY',\n",
       "       'MSC ORGANIC CHEMISTRY', 'MSC PHYSICS', 'BACHELOR OF COMMERCE',\n",
       "       'B.SC. COMPUTER SCIENCE'], dtype=object)"
      ]
     },
     "execution_count": 20,
     "metadata": {},
     "output_type": "execute_result"
    }
   ],
   "source": [
    "StudenSatisfactiont_survey['Basic Course'].unique()"
   ]
  },
  {
   "cell_type": "markdown",
   "id": "d1e9ee30-15f2-439b-b8da-bb715ec33b77",
   "metadata": {},
   "source": [
    "MOST ENGAGED COURSES"
   ]
  },
  {
   "cell_type": "code",
   "execution_count": 27,
   "id": "dd2d7317-0182-4728-b5f5-dd61a8a9ac26",
   "metadata": {
    "scrolled": true
   },
   "outputs": [
    {
     "data": {
      "text/plain": [
       "Basic Course\n",
       "BACHELOR OF MANAGEMENT STUDIES                   60\n",
       "BACHELOR OF SCIENCE                              60\n",
       "BACHELOR OF ARTS                                 40\n",
       "BACHELOR OF COMMERCE (ACCOUNTING AND FINANCE)    40\n",
       "MA PSYCHOLOGY                                    40\n",
       "MSC COMPUTER SCIENCE                             40\n",
       "MSC ANALYTICAL CHEMISTRY                         40\n",
       "MSC DATA SCIENCE                                 40\n",
       "MSC INFORMATION TECHNOLOGY                       40\n",
       "MSC MICROBIOLOGY                                 40\n",
       "BACHELOR OF COMMERCE                             40\n",
       "B.VOC FOOD TECHNOLOGY                            20\n",
       "BACHELOR OF COMMERCE (BANKING AND INSURANCE)     20\n",
       "MSC ORGANIC CHEMISTRY                            20\n",
       "MSC PHYSICS                                      20\n",
       "B.SC. COMPUTER SCIENCE                           20\n",
       "Name: count, dtype: int64"
      ]
     },
     "execution_count": 27,
     "metadata": {},
     "output_type": "execute_result"
    }
   ],
   "source": [
    "StudenSatisfactiont_survey['Basic Course'].value_counts()"
   ]
  },
  {
   "cell_type": "code",
   "execution_count": 21,
   "id": "11ca7618-c2d7-478f-ad65-012ecb68a6a7",
   "metadata": {
    "scrolled": true
   },
   "outputs": [
    {
     "data": {
      "text/plain": [
       "array(['How much of the syllabus was covered in the class?',\n",
       "       'How well did the teachers prepare for the classes?',\n",
       "       'How well were the teachers able to communicate?',\n",
       "       'The teacher\\x92s approach to teaching can best be described as',\n",
       "       'Fairness of the internal evaluation process by the teachers.',\n",
       "       'Was your performance in assignments discussed with you?',\n",
       "       'The institute takes an active interest in promoting internships, student exchange, field visit opportunities for students.',\n",
       "       'The teaching and mentoring process in your institution facilitates you in cognitive, social and\\nemotional growth.',\n",
       "       'The institution provides multiple opportunities to learn and grow.',\n",
       "       'Teachers inform you about your expected competencies, course outcomes and program\\noutcomes.',\n",
       "       'Your mentor does a necessary follow-up with an assigned task to you.',\n",
       "       'The teachers illustrate the concepts through examples and applications.',\n",
       "       'The teachers identify your strengths and encourage you to provide the proper level of challenges.',\n",
       "       'Teachers are able to identify your weaknesses and help you to overcome them.',\n",
       "       'The institution makes effort to engage students in the monitoring, review and continuous quality improvement of the teaching-learning process.',\n",
       "       'The institute/ teachers use student-centric methods, such as experiential learning, participative learning and problem-solving methodologies for enhancing learning experiences.',\n",
       "       'Teachers encourage you to participate in extracurricular activities.',\n",
       "       'Efforts are made by the institute/ teachers to inculcate soft skills, life skills and employability skills to make you ready for the world of work.',\n",
       "       'What percentage of teachers use ICT tools such as LCD projectors, Multimedia, etc. while teaching?',\n",
       "       'The overall quality of the teaching-learning process in your institute is very good.'],\n",
       "      dtype=object)"
      ]
     },
     "execution_count": 21,
     "metadata": {},
     "output_type": "execute_result"
    }
   ],
   "source": [
    "StudenSatisfactiont_survey['Questions'].unique()"
   ]
  },
  {
   "cell_type": "markdown",
   "id": "bcd1e944-4267-43a7-97bf-d5983ca322d0",
   "metadata": {},
   "source": [
    "QUESTIONS ASKED THE MOST"
   ]
  },
  {
   "cell_type": "code",
   "execution_count": 28,
   "id": "d847e59b-1b0d-4fa8-9a46-ca03de14a0d6",
   "metadata": {
    "scrolled": true
   },
   "outputs": [
    {
     "data": {
      "text/plain": [
       "Questions\n",
       "How much of the syllabus was covered in the class?                                                                                                                                  29\n",
       "How well did the teachers prepare for the classes?                                                                                                                                  29\n",
       "What percentage of teachers use ICT tools such as LCD projectors, Multimedia, etc. while teaching?                                                                                  29\n",
       "Efforts are made by the institute/ teachers to inculcate soft skills, life skills and employability skills to make you ready for the world of work.                                 29\n",
       "Teachers encourage you to participate in extracurricular activities.                                                                                                                29\n",
       "The institute/ teachers use student-centric methods, such as experiential learning, participative learning and problem-solving methodologies for enhancing learning experiences.    29\n",
       "The institution makes effort to engage students in the monitoring, review and continuous quality improvement of the teaching-learning process.                                      29\n",
       "Teachers are able to identify your weaknesses and help you to overcome them.                                                                                                        29\n",
       "The teachers identify your strengths and encourage you to provide the proper level of challenges.                                                                                   29\n",
       "The teachers illustrate the concepts through examples and applications.                                                                                                             29\n",
       "Your mentor does a necessary follow-up with an assigned task to you.                                                                                                                29\n",
       "Teachers inform you about your expected competencies, course outcomes and program\\noutcomes.                                                                                        29\n",
       "The institution provides multiple opportunities to learn and grow.                                                                                                                  29\n",
       "The teaching and mentoring process in your institution facilitates you in cognitive, social and\\nemotional growth.                                                                  29\n",
       "The institute takes an active interest in promoting internships, student exchange, field visit opportunities for students.                                                          29\n",
       "Was your performance in assignments discussed with you?                                                                                                                             29\n",
       "Fairness of the internal evaluation process by the teachers.                                                                                                                        29\n",
       "The teachers approach to teaching can best be described as                                                                                                                         29\n",
       "How well were the teachers able to communicate?                                                                                                                                     29\n",
       "The overall quality of the teaching-learning process in your institute is very good.                                                                                                29\n",
       "Name: count, dtype: int64"
      ]
     },
     "execution_count": 28,
     "metadata": {},
     "output_type": "execute_result"
    }
   ],
   "source": [
    "StudenSatisfactiont_survey['Questions'].value_counts()"
   ]
  },
  {
   "cell_type": "markdown",
   "id": "c944a0a0-6696-4428-b949-e1e8fa6cc98a",
   "metadata": {},
   "source": [
    "HIGHEST AVERAGE/PERCENTAGE OF BASIC COURSES"
   ]
  },
  {
   "cell_type": "code",
   "execution_count": 24,
   "id": "8506d591-65dc-4e7b-9edb-b0a81ea59b87",
   "metadata": {},
   "outputs": [
    {
     "data": {
      "text/html": [
       "<div>\n",
       "<style scoped>\n",
       "    .dataframe tbody tr th:only-of-type {\n",
       "        vertical-align: middle;\n",
       "    }\n",
       "\n",
       "    .dataframe tbody tr th {\n",
       "        vertical-align: top;\n",
       "    }\n",
       "\n",
       "    .dataframe thead th {\n",
       "        text-align: right;\n",
       "    }\n",
       "</style>\n",
       "<table border=\"1\" class=\"dataframe\">\n",
       "  <thead>\n",
       "    <tr style=\"text-align: right;\">\n",
       "      <th></th>\n",
       "      <th>Average/ Percentage</th>\n",
       "    </tr>\n",
       "    <tr>\n",
       "      <th>Basic Course</th>\n",
       "      <th></th>\n",
       "    </tr>\n",
       "  </thead>\n",
       "  <tbody>\n",
       "    <tr>\n",
       "      <th>B.VOC FOOD TECHNOLOGY</th>\n",
       "      <td>5.00 / 100.00</td>\n",
       "    </tr>\n",
       "    <tr>\n",
       "      <th>BACHELOR OF ARTS</th>\n",
       "      <td>5.00 / 100.00</td>\n",
       "    </tr>\n",
       "    <tr>\n",
       "      <th>BACHELOR OF SCIENCE</th>\n",
       "      <td>5.00 / 100.00</td>\n",
       "    </tr>\n",
       "    <tr>\n",
       "      <th>MSC ANALYTICAL CHEMISTRY</th>\n",
       "      <td>5.00 / 100.00</td>\n",
       "    </tr>\n",
       "    <tr>\n",
       "      <th>MSC INFORMATION TECHNOLOGY</th>\n",
       "      <td>5.00 / 100.00</td>\n",
       "    </tr>\n",
       "    <tr>\n",
       "      <th>MSC COMPUTER SCIENCE</th>\n",
       "      <td>4.86 / 97.14</td>\n",
       "    </tr>\n",
       "    <tr>\n",
       "      <th>BACHELOR OF MANAGEMENT STUDIES</th>\n",
       "      <td>4.75 / 95.00</td>\n",
       "    </tr>\n",
       "    <tr>\n",
       "      <th>BACHELOR OF COMMERCE (BANKING AND INSURANCE)</th>\n",
       "      <td>4.70 / 94.00</td>\n",
       "    </tr>\n",
       "    <tr>\n",
       "      <th>BACHELOR OF COMMERCE (ACCOUNTING AND FINANCE)</th>\n",
       "      <td>4.54 / 90.87</td>\n",
       "    </tr>\n",
       "    <tr>\n",
       "      <th>MSC PHYSICS</th>\n",
       "      <td>4.50 / 90.00</td>\n",
       "    </tr>\n",
       "  </tbody>\n",
       "</table>\n",
       "</div>"
      ],
      "text/plain": [
       "                                              Average/ Percentage\n",
       "Basic Course                                                     \n",
       "B.VOC FOOD TECHNOLOGY                               5.00 / 100.00\n",
       "BACHELOR OF ARTS                                    5.00 / 100.00\n",
       "BACHELOR OF SCIENCE                                 5.00 / 100.00\n",
       "MSC ANALYTICAL CHEMISTRY                            5.00 / 100.00\n",
       "MSC INFORMATION TECHNOLOGY                          5.00 / 100.00\n",
       "MSC COMPUTER SCIENCE                                 4.86 / 97.14\n",
       "BACHELOR OF MANAGEMENT STUDIES                       4.75 / 95.00\n",
       "BACHELOR OF COMMERCE (BANKING AND INSURANCE)         4.70 / 94.00\n",
       "BACHELOR OF COMMERCE (ACCOUNTING AND FINANCE)        4.54 / 90.87\n",
       "MSC PHYSICS                                          4.50 / 90.00"
      ]
     },
     "execution_count": 24,
     "metadata": {},
     "output_type": "execute_result"
    }
   ],
   "source": [
    "StudenSatisfactiont_survey.groupby('Basic Course')[['Average/ Percentage']].max().sort_values(by = 'Average/ Percentage', ascending = False).head(10)"
   ]
  },
  {
   "cell_type": "markdown",
   "id": "cb42b119-de36-4bf9-a214-7820a45213d1",
   "metadata": {},
   "source": [
    "WEIGHTAGE FOR THE BASIC COURSES"
   ]
  },
  {
   "cell_type": "code",
   "execution_count": 35,
   "id": "e2ed51c0-8228-42df-8d12-34d9b7d6f549",
   "metadata": {},
   "outputs": [],
   "source": [
    "Weightage1=StudenSatisfactiont_survey.groupby('Weightage 1')[['Basic Course']].value_counts().head()\n",
    "Weightage2=StudenSatisfactiont_survey.groupby('Weightage 2')[['Basic Course']].value_counts().head()\n",
    "Weightage3=StudenSatisfactiont_survey.groupby('Weightage 3')[['Basic Course']].value_counts().head()\n",
    "Weightage4=StudenSatisfactiont_survey.groupby('Weightage 4')[['Basic Course']].value_counts().head()\n",
    "Weightage5=StudenSatisfactiont_survey.groupby('Weightage 5')[['Basic Course']].value_counts().head()"
   ]
  },
  {
   "cell_type": "code",
   "execution_count": 36,
   "id": "57720561-5811-484d-b7e4-86f71407f497",
   "metadata": {},
   "outputs": [
    {
     "name": "stdout",
     "output_type": "stream",
     "text": [
      "Weightage 1  Basic Course                  \n",
      "0            BACHELOR OF SCIENCE               49\n",
      "             BACHELOR OF MANAGEMENT STUDIES    45\n",
      "             BACHELOR OF ARTS                  38\n",
      "             MSC INFORMATION TECHNOLOGY        37\n",
      "             MSC COMPUTER SCIENCE              35\n",
      "Name: count, dtype: int64\n",
      "Weightage 2  Basic Course                  \n",
      "0            BACHELOR OF MANAGEMENT STUDIES    39\n",
      "             MSC INFORMATION TECHNOLOGY        37\n",
      "             MSC COMPUTER SCIENCE              30\n",
      "             BACHELOR OF ARTS                  29\n",
      "             MA PSYCHOLOGY                     26\n",
      "Name: count, dtype: int64\n",
      "Weightage 3  Basic Course                  \n",
      "0            MSC INFORMATION TECHNOLOGY        29\n",
      "             BACHELOR OF ARTS                  19\n",
      "             BACHELOR OF MANAGEMENT STUDIES    19\n",
      "             MSC ANALYTICAL CHEMISTRY          15\n",
      "             BACHELOR OF SCIENCE               14\n",
      "Name: count, dtype: int64\n",
      "Weightage 4  Basic Course              \n",
      "0            B.VOC FOOD TECHNOLOGY         15\n",
      "             MSC DATA SCIENCE              14\n",
      "             BACHELOR OF ARTS              13\n",
      "             MSC INFORMATION TECHNOLOGY    12\n",
      "             MSC ANALYTICAL CHEMISTRY      11\n",
      "Name: count, dtype: int64\n",
      "Weightage 5  Basic Course         \n",
      "0            MSC DATA SCIENCE         39\n",
      "             B.VOC FOOD TECHNOLOGY    17\n",
      "             MA PSYCHOLOGY            13\n",
      "             MSC PHYSICS              12\n",
      "             MSC COMPUTER SCIENCE     10\n",
      "Name: count, dtype: int64\n"
     ]
    }
   ],
   "source": [
    "print(Weightage1)\n",
    "print(Weightage2)\n",
    "print(Weightage3)\n",
    "print(Weightage4)\n",
    "print(Weightage5)"
   ]
  },
  {
   "cell_type": "code",
   "execution_count": 12,
   "id": "44ad4959-0721-4aa7-8885-61fd568e38e5",
   "metadata": {},
   "outputs": [
    {
     "data": {
      "text/plain": [
       "(1001, 10)"
      ]
     },
     "execution_count": 12,
     "metadata": {},
     "output_type": "execute_result"
    }
   ],
   "source": [
    "Student_Feedback.shape"
   ]
  },
  {
   "cell_type": "code",
   "execution_count": 13,
   "id": "2e63a893-5b18-4d32-93c7-829d43e2fb2d",
   "metadata": {
    "scrolled": true
   },
   "outputs": [
    {
     "data": {
      "text/plain": [
       "<bound method DataFrame.nunique of       Unnamed: 0  Student ID  Well versed with the subject  \\\n",
       "0              0         340                             5   \n",
       "1              1         253                             6   \n",
       "2              2         680                             7   \n",
       "3              3         806                             9   \n",
       "4              4         632                             8   \n",
       "...          ...         ...                           ...   \n",
       "996          996          55                             8   \n",
       "997          997         913                             5   \n",
       "998          998         199                             9   \n",
       "999          999         539                            10   \n",
       "1000        1000         759                             7   \n",
       "\n",
       "      Explains concepts in an understandable way  Use of presentations  \\\n",
       "0                                              2                     7   \n",
       "1                                              5                     8   \n",
       "2                                              7                     6   \n",
       "3                                              6                     7   \n",
       "4                                             10                     8   \n",
       "...                                          ...                   ...   \n",
       "996                                            7                     6   \n",
       "997                                            5                     6   \n",
       "998                                            5                     8   \n",
       "999                                            2                     7   \n",
       "1000                                           2                     4   \n",
       "\n",
       "      Degree of difficulty of assignments  Solves doubts willingly  \\\n",
       "0                                       6                        9   \n",
       "1                                       6                        2   \n",
       "2                                       5                        4   \n",
       "3                                       1                        5   \n",
       "4                                       4                        6   \n",
       "...                                   ...                      ...   \n",
       "996                                     2                        5   \n",
       "997                                     5                        6   \n",
       "998                                     3                        8   \n",
       "999                                     4                        3   \n",
       "1000                                    2                        1   \n",
       "\n",
       "      Structuring of the course  \\\n",
       "0                             2   \n",
       "1                             1   \n",
       "2                             2   \n",
       "3                             9   \n",
       "4                             6   \n",
       "...                         ...   \n",
       "996                           7   \n",
       "997                           7   \n",
       "998                           1   \n",
       "999                           4   \n",
       "1000                          5   \n",
       "\n",
       "      Provides support for students going above and beyond  \\\n",
       "0                                                     1      \n",
       "1                                                     2      \n",
       "2                                                     3      \n",
       "3                                                     4      \n",
       "4                                                     9      \n",
       "...                                                 ...      \n",
       "996                                                   7      \n",
       "997                                                   6      \n",
       "998                                                   1      \n",
       "999                                                  10      \n",
       "1000                                                  9      \n",
       "\n",
       "      Course recommendation based on relevance  \n",
       "0                                            8  \n",
       "1                                            9  \n",
       "2                                            1  \n",
       "3                                            6  \n",
       "4                                            9  \n",
       "...                                        ...  \n",
       "996                                          9  \n",
       "997                                          1  \n",
       "998                                          2  \n",
       "999                                          1  \n",
       "1000                                         9  \n",
       "\n",
       "[1001 rows x 10 columns]>"
      ]
     },
     "execution_count": 13,
     "metadata": {},
     "output_type": "execute_result"
    }
   ],
   "source": [
    "Student_Feedback.nunique"
   ]
  },
  {
   "cell_type": "code",
   "execution_count": 15,
   "id": "5cb45fea-3455-4d3e-bbb7-d0ae3fcff533",
   "metadata": {
    "scrolled": true
   },
   "outputs": [
    {
     "data": {
      "text/plain": [
       "<bound method DataFrame.info of       Unnamed: 0  Student ID  Well versed with the subject  \\\n",
       "0              0         340                             5   \n",
       "1              1         253                             6   \n",
       "2              2         680                             7   \n",
       "3              3         806                             9   \n",
       "4              4         632                             8   \n",
       "...          ...         ...                           ...   \n",
       "996          996          55                             8   \n",
       "997          997         913                             5   \n",
       "998          998         199                             9   \n",
       "999          999         539                            10   \n",
       "1000        1000         759                             7   \n",
       "\n",
       "      Explains concepts in an understandable way  Use of presentations  \\\n",
       "0                                              2                     7   \n",
       "1                                              5                     8   \n",
       "2                                              7                     6   \n",
       "3                                              6                     7   \n",
       "4                                             10                     8   \n",
       "...                                          ...                   ...   \n",
       "996                                            7                     6   \n",
       "997                                            5                     6   \n",
       "998                                            5                     8   \n",
       "999                                            2                     7   \n",
       "1000                                           2                     4   \n",
       "\n",
       "      Degree of difficulty of assignments  Solves doubts willingly  \\\n",
       "0                                       6                        9   \n",
       "1                                       6                        2   \n",
       "2                                       5                        4   \n",
       "3                                       1                        5   \n",
       "4                                       4                        6   \n",
       "...                                   ...                      ...   \n",
       "996                                     2                        5   \n",
       "997                                     5                        6   \n",
       "998                                     3                        8   \n",
       "999                                     4                        3   \n",
       "1000                                    2                        1   \n",
       "\n",
       "      Structuring of the course  \\\n",
       "0                             2   \n",
       "1                             1   \n",
       "2                             2   \n",
       "3                             9   \n",
       "4                             6   \n",
       "...                         ...   \n",
       "996                           7   \n",
       "997                           7   \n",
       "998                           1   \n",
       "999                           4   \n",
       "1000                          5   \n",
       "\n",
       "      Provides support for students going above and beyond  \\\n",
       "0                                                     1      \n",
       "1                                                     2      \n",
       "2                                                     3      \n",
       "3                                                     4      \n",
       "4                                                     9      \n",
       "...                                                 ...      \n",
       "996                                                   7      \n",
       "997                                                   6      \n",
       "998                                                   1      \n",
       "999                                                  10      \n",
       "1000                                                  9      \n",
       "\n",
       "      Course recommendation based on relevance  \n",
       "0                                            8  \n",
       "1                                            9  \n",
       "2                                            1  \n",
       "3                                            6  \n",
       "4                                            9  \n",
       "...                                        ...  \n",
       "996                                          9  \n",
       "997                                          1  \n",
       "998                                          2  \n",
       "999                                          1  \n",
       "1000                                         9  \n",
       "\n",
       "[1001 rows x 10 columns]>"
      ]
     },
     "execution_count": 15,
     "metadata": {},
     "output_type": "execute_result"
    }
   ],
   "source": [
    "Student_Feedback.info"
   ]
  },
  {
   "cell_type": "code",
   "execution_count": 38,
   "id": "d466507a-0a9c-46b9-b37b-7c3562f8170d",
   "metadata": {},
   "outputs": [
    {
     "data": {
      "text/plain": [
       "Course recommendation based on relevance\n",
       "9     111\n",
       "7     106\n",
       "6     104\n",
       "4     103\n",
       "1     102\n",
       "10    102\n",
       "8     100\n",
       "2      94\n",
       "5      90\n",
       "3      89\n",
       "Name: count, dtype: int64"
      ]
     },
     "execution_count": 38,
     "metadata": {},
     "output_type": "execute_result"
    }
   ],
   "source": [
    "Student_Feedback['Course recommendation based on relevance'].value_counts()"
   ]
  },
  {
   "cell_type": "code",
   "execution_count": 37,
   "id": "f6219538-75bd-4cc1-9c3c-469be7f09c5a",
   "metadata": {},
   "outputs": [
    {
     "data": {
      "text/plain": [
       "Course recommendation based on relevance  Provides support for students going above and beyond\n",
       "1                                         3                                                       16\n",
       "                                          6                                                       13\n",
       "                                          4                                                       12\n",
       "                                          5                                                       12\n",
       "                                          10                                                      11\n",
       "Name: count, dtype: int64"
      ]
     },
     "execution_count": 37,
     "metadata": {},
     "output_type": "execute_result"
    }
   ],
   "source": [
    "Student_Feedback.groupby('Course recommendation based on relevance')[['Provides support for students going above and beyond']].value_counts().head()"
   ]
  },
  {
   "cell_type": "code",
   "execution_count": 39,
   "id": "e837715c-fa87-4aaa-8d58-5eaf91dbebd0",
   "metadata": {},
   "outputs": [
    {
     "name": "stdout",
     "output_type": "stream",
     "text": [
      "Numeric candidate columns: ['Well versed with the subject', 'Explains concepts in an understandable way', 'Use of presentations', 'Degree of difficulty of assignments', 'Solves doubts willingly', 'Structuring of the course', 'Provides support for students going above and beyond', 'Course recommendation based on relevance']\n"
     ]
    }
   ],
   "source": [
    "numeric_cols = []\n",
    "for c in Student_Feedback.columns:\n",
    "    if Student_Feedback[c].dtype.kind in ['i', 'u', 'f']:\n",
    "        if c != 'Student ID' and c != 'Unnamed: 0':\n",
    "            numeric_cols.append(c)\n",
    "\n",
    "print('Numeric candidate columns:', numeric_cols)"
   ]
  },
  {
   "cell_type": "code",
   "execution_count": 40,
   "id": "07396672-2b0f-4a1a-8abf-f0716885d443",
   "metadata": {},
   "outputs": [
    {
     "name": "stdout",
     "output_type": "stream",
     "text": [
      "Share of rows within 1-5 per question:\n",
      "Degree of difficulty of assignments                     0.508492\n",
      "Solves doubts willingly                                 0.495504\n",
      "Course recommendation based on relevance                0.477522\n",
      "Structuring of the course                               0.473526\n",
      "Provides support for students going above and beyond    0.471528\n",
      "Explains concepts in an understandable way              0.421578\n",
      "Use of presentations                                    0.413586\n",
      "Well versed with the subject                            0.164835\n",
      "dtype: float64\n"
     ]
    }
   ],
   "source": [
    "# Keep only ratings in 1-5; create masked frame\n",
    "ratings_df = Student_Feedback[numeric_cols].apply(pd.to_numeric, errors='coerce')\n",
    "# Compute share within 1-5 for each column\n",
    "valid_mask = (ratings_df >= 1) & (ratings_df <= 5)\n",
    "valid_share = valid_mask.sum() / ratings_df.shape[0]\n",
    "print('Share of rows within 1-5 per question:')\n",
    "print(valid_share.sort_values(ascending=False))"
   ]
  },
  {
   "cell_type": "code",
   "execution_count": 45,
   "id": "21f3377a-8085-4c59-8151-452af09a2b47",
   "metadata": {},
   "outputs": [
    {
     "data": {
      "text/html": [
       "<div>\n",
       "<style scoped>\n",
       "    .dataframe tbody tr th:only-of-type {\n",
       "        vertical-align: middle;\n",
       "    }\n",
       "\n",
       "    .dataframe tbody tr th {\n",
       "        vertical-align: top;\n",
       "    }\n",
       "\n",
       "    .dataframe thead th {\n",
       "        text-align: right;\n",
       "    }\n",
       "</style>\n",
       "<table border=\"1\" class=\"dataframe\">\n",
       "  <thead>\n",
       "    <tr style=\"text-align: right;\">\n",
       "      <th></th>\n",
       "      <th>Well versed with the subject</th>\n",
       "      <th>Explains concepts in an understandable way</th>\n",
       "      <th>Use of presentations</th>\n",
       "      <th>Degree of difficulty of assignments</th>\n",
       "      <th>Solves doubts willingly</th>\n",
       "      <th>Structuring of the course</th>\n",
       "      <th>Provides support for students going above and beyond</th>\n",
       "      <th>Course recommendation based on relevance</th>\n",
       "    </tr>\n",
       "  </thead>\n",
       "  <tbody>\n",
       "    <tr>\n",
       "      <th>0</th>\n",
       "      <td>5.0</td>\n",
       "      <td>2.0</td>\n",
       "      <td>NaN</td>\n",
       "      <td>NaN</td>\n",
       "      <td>NaN</td>\n",
       "      <td>2.0</td>\n",
       "      <td>1.0</td>\n",
       "      <td>NaN</td>\n",
       "    </tr>\n",
       "    <tr>\n",
       "      <th>1</th>\n",
       "      <td>NaN</td>\n",
       "      <td>5.0</td>\n",
       "      <td>NaN</td>\n",
       "      <td>NaN</td>\n",
       "      <td>2.0</td>\n",
       "      <td>1.0</td>\n",
       "      <td>2.0</td>\n",
       "      <td>NaN</td>\n",
       "    </tr>\n",
       "    <tr>\n",
       "      <th>2</th>\n",
       "      <td>NaN</td>\n",
       "      <td>NaN</td>\n",
       "      <td>NaN</td>\n",
       "      <td>5.0</td>\n",
       "      <td>4.0</td>\n",
       "      <td>2.0</td>\n",
       "      <td>3.0</td>\n",
       "      <td>1.0</td>\n",
       "    </tr>\n",
       "    <tr>\n",
       "      <th>3</th>\n",
       "      <td>NaN</td>\n",
       "      <td>NaN</td>\n",
       "      <td>NaN</td>\n",
       "      <td>1.0</td>\n",
       "      <td>5.0</td>\n",
       "      <td>NaN</td>\n",
       "      <td>4.0</td>\n",
       "      <td>NaN</td>\n",
       "    </tr>\n",
       "    <tr>\n",
       "      <th>4</th>\n",
       "      <td>NaN</td>\n",
       "      <td>NaN</td>\n",
       "      <td>NaN</td>\n",
       "      <td>4.0</td>\n",
       "      <td>NaN</td>\n",
       "      <td>NaN</td>\n",
       "      <td>NaN</td>\n",
       "      <td>NaN</td>\n",
       "    </tr>\n",
       "  </tbody>\n",
       "</table>\n",
       "</div>"
      ],
      "text/plain": [
       "   Well versed with the subject  Explains concepts in an understandable way  \\\n",
       "0                           5.0                                         2.0   \n",
       "1                           NaN                                         5.0   \n",
       "2                           NaN                                         NaN   \n",
       "3                           NaN                                         NaN   \n",
       "4                           NaN                                         NaN   \n",
       "\n",
       "   Use of presentations  Degree of difficulty of assignments  \\\n",
       "0                   NaN                                  NaN   \n",
       "1                   NaN                                  NaN   \n",
       "2                   NaN                                  5.0   \n",
       "3                   NaN                                  1.0   \n",
       "4                   NaN                                  4.0   \n",
       "\n",
       "   Solves doubts willingly  Structuring of the course  \\\n",
       "0                      NaN                        2.0   \n",
       "1                      2.0                        1.0   \n",
       "2                      4.0                        2.0   \n",
       "3                      5.0                        NaN   \n",
       "4                      NaN                        NaN   \n",
       "\n",
       "   Provides support for students going above and beyond  \\\n",
       "0                                                1.0      \n",
       "1                                                2.0      \n",
       "2                                                3.0      \n",
       "3                                                4.0      \n",
       "4                                                NaN      \n",
       "\n",
       "   Course recommendation based on relevance  \n",
       "0                                       NaN  \n",
       "1                                       NaN  \n",
       "2                                       1.0  \n",
       "3                                       NaN  \n",
       "4                                       NaN  "
      ]
     },
     "execution_count": 45,
     "metadata": {},
     "output_type": "execute_result"
    }
   ],
   "source": [
    "# Create a cleaned ratings dataframe limited to 1-5 values; others set to NaN\n",
    "ratings_1_5 = ratings_df.where(valid_mask)\n",
    "ratings_1_5.head()"
   ]
  },
  {
   "cell_type": "code",
   "execution_count": 42,
   "id": "d3fdc610-f49d-49e2-a7c5-43abba61c294",
   "metadata": {},
   "outputs": [
    {
     "name": "stdout",
     "output_type": "stream",
     "text": [
      "Per-student satisfaction mean (head):\n",
      "0    2.500000\n",
      "1    2.500000\n",
      "2    3.000000\n",
      "3    3.333333\n",
      "4    4.000000\n",
      "dtype: float64\n",
      "Per-question mean (ascending):\n",
      "Solves doubts willingly                                 2.955645\n",
      "Structuring of the course                               2.959916\n",
      "Course recommendation based on relevance                2.968619\n",
      "Provides support for students going above and beyond    2.976695\n",
      "Degree of difficulty of assignments                     2.978389\n",
      "Explains concepts in an understandable way              3.450237\n",
      "Use of presentations                                    4.473430\n",
      "Well versed with the subject                            5.000000\n",
      "dtype: float64\n",
      "Per-question median (ascending):\n",
      "Explains concepts in an understandable way              3.0\n",
      "Degree of difficulty of assignments                     3.0\n",
      "Solves doubts willingly                                 3.0\n",
      "Structuring of the course                               3.0\n",
      "Provides support for students going above and beyond    3.0\n",
      "Course recommendation based on relevance                3.0\n",
      "Use of presentations                                    4.0\n",
      "Well versed with the subject                            5.0\n",
      "dtype: float64\n",
      "Per-question low rating share (1-2):\n",
      "Solves doubts willingly                                 0.423387\n",
      "Structuring of the course                               0.413502\n",
      "Course recommendation based on relevance                0.410042\n",
      "Degree of difficulty of assignments                     0.402750\n",
      "Provides support for students going above and beyond    0.391949\n",
      "Explains concepts in an understandable way              0.270142\n",
      "Well versed with the subject                            0.000000\n",
      "Use of presentations                                    0.000000\n",
      "dtype: float64\n",
      "Per-question high rating share (4-5):\n",
      "Well versed with the subject                            1.000000\n",
      "Use of presentations                                    1.000000\n",
      "Explains concepts in an understandable way              0.485782\n",
      "Course recommendation based on relevance                0.403766\n",
      "Structuring of the course                               0.402954\n",
      "Solves doubts willingly                                 0.397177\n",
      "Provides support for students going above and beyond    0.396186\n",
      "Degree of difficulty of assignments                     0.387033\n",
      "dtype: float64\n"
     ]
    }
   ],
   "source": [
    "student_mean = ratings_1_5.mean(axis=1, skipna=True)\n",
    "print('Per-student satisfaction mean (head):')\n",
    "print(student_mean.head())\n",
    "\n",
    "# Per-question stats\n",
    "question_mean = ratings_1_5.mean(skipna=True)\n",
    "question_median = ratings_1_5.median(skipna=True)\n",
    "question_low_share = (ratings_1_5 <= 2).sum() / ratings_1_5.count()\n",
    "question_high_share = (ratings_1_5 >= 4).sum() / ratings_1_5.count()\n",
    "\n",
    "print('Per-question mean (ascending):')\n",
    "print(question_mean.sort_values())\n",
    "print('Per-question median (ascending):')\n",
    "print(question_median.sort_values())\n",
    "print('Per-question low rating share (1-2):')\n",
    "print(question_low_share.sort_values(ascending=False))\n",
    "print('Per-question high rating share (4-5):')\n",
    "print(question_high_share.sort_values(ascending=False))"
   ]
  },
  {
   "cell_type": "code",
   "execution_count": 43,
   "id": "7c94ad80-28fa-4890-a261-db9d1fb8a238",
   "metadata": {},
   "outputs": [
    {
     "data": {
      "image/png": "[encoded data removed]",
      "text/plain": [
       "<Figure size 800x400 with 1 Axes>"
      ]
     },
     "metadata": {},
     "output_type": "display_data"
    }
   ],
   "source": [
    "# Plot distributions\n",
    "sns.set(style='whitegrid')\n",
    "plt.figure(figsize=(8,4))\n",
    "sns.histplot(student_mean.dropna(), bins=[1,2,3,4,5,6], kde=False)\n",
    "plt.title('Distribution of overall student satisfaction (mean 1-5)')\n",
    "plt.xlabel('Mean rating')\n",
    "plt.ylabel('Count')\n",
    "plt.show()"
   ]
  },
  {
   "cell_type": "code",
   "execution_count": 44,
   "id": "68b05b77-f506-4763-bbd1-7248a15d588a",
   "metadata": {},
   "outputs": [
    {
     "data": {
      "image/png": "[encoded data removed]",
      "text/plain": [
       "<Figure size 1000x500 with 1 Axes>"
      ]
     },
     "metadata": {},
     "output_type": "display_data"
    }
   ],
   "source": [
    "plt.figure(figsize=(10,5))\n",
    "question_mean_sorted = question_mean.sort_values(ascending=True)\n",
    "sns.barplot(x=question_mean_sorted.values, y=question_mean_sorted.index, orient='h')\n",
    "plt.title('Average rating by question (1-5)')\n",
    "plt.xlabel('Average rating')\n",
    "plt.ylabel('Question')\n",
    "plt.xlim(1,5)\n",
    "plt.show()"
   ]
  },
  {
   "cell_type": "code",
   "execution_count": null,
   "id": "860fb8bb-78a7-4603-9208-9ad7e9f72584",
   "metadata": {},
   "outputs": [],
   "source": []
  },
  {
   "cell_type": "code",
   "execution_count": null,
   "id": "0f813923-1719-464e-97d3-e1dd3a0652c3",
   "metadata": {},
   "outputs": [],
   "source": []
  },
  {
   "cell_type": "code",
   "execution_count": null,
   "id": "0e06013b-ea1f-4b2a-9e48-0ea8c8a3175d",
   "metadata": {},
   "outputs": [],
   "source": []
  },
  {
   "cell_type": "code",
   "execution_count": null,
   "id": "6b68928e-43f6-4636-9dd1-1c01c16cacdd",
   "metadata": {},
   "outputs": [],
   "source": []
  },
  {
   "cell_type": "code",
   "execution_count": null,
   "id": "20aae36a-213b-446e-83d9-304a48bce910",
   "metadata": {},
   "outputs": [],
   "source": []
  },
  {
   "cell_type": "code",
   "execution_count": null,
   "id": "3c81d811-5813-43d9-a34a-1a4fb3c8afe2",
   "metadata": {},
   "outputs": [],
   "source": []
  },
  {
   "cell_type": "code",
   "execution_count": null,
   "id": "e84630eb-502a-4020-898e-2af31accb361",
   "metadata": {},
   "outputs": [],
   "source": []
  },
  {
   "cell_type": "code",
   "execution_count": null,
   "id": "8f467b62-5c74-41fe-b07e-ee01842acb3e",
   "metadata": {},
   "outputs": [],
   "source": []
  },
  {
   "cell_type": "code",
   "execution_count": null,
   "id": "c0dff9a1-632f-4e15-b281-72a0da1c578d",
   "metadata": {},
   "outputs": [],
   "source": []
  },
  {
   "cell_type": "code",
   "execution_count": null,
   "id": "01ed1c2b-73ae-4246-82dd-d26fede4a057",
   "metadata": {},
   "outputs": [],
   "source": []
  },
  {
   "cell_type": "code",
   "execution_count": null,
   "id": "e8f727f6-3720-466f-916b-d36e5a00ecf4",
   "metadata": {},
   "outputs": [],
   "source": []
  }
 ],
 "metadata": {
  "kernelspec": {
   "display_name": "Python 3 (ipykernel)",
   "language": "python",
   "name": "python3"
  },
  "language_info": {
   "codemirror_mode": {
    "name": "ipython",
    "version": 3
   },
   "file_extension": ".py",
   "mimetype": "text/x-python",
   "name": "python",
   "nbconvert_exporter": "python",
   "pygments_lexer": "ipython3",
   "version": "3.12.7"
  }
 },
 "nbformat": 4,
 "nbformat_minor": 5
}
