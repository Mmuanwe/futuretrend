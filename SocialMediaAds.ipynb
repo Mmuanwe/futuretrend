{
 "cells": [
  {
   "cell_type": "code",
   "execution_count": 1,
   "id": "809248d7-0f24-4914-8471-4c786dad837a",
   "metadata": {},
   "outputs": [],
   "source": [
    "import pandas as pd\n",
    "%matplotlib inline\n",
    "import matplotlib.pyplot as plt\n",
    "import seaborn as sns\n",
    "import numpy as np"
   ]
  },
  {
   "cell_type": "code",
   "execution_count": 2,
   "id": "d3006eac-bfce-404f-a6d9-c02884ecea1f",
   "metadata": {},
   "outputs": [],
   "source": [
    "facebook_data = pd.read_csv(\"C:\\\\Users\\\\Hp\\\\Desktop\\\\future_interns\\\\facebookdata\\\\data.csv\")"
   ]
  },
  {
   "cell_type": "code",
   "execution_count": 3,
   "id": "d12a36dd-4de2-4398-961a-5c594e60123c",
   "metadata": {},
   "outputs": [
    {
     "data": {
      "text/html": [
       "<div>\n",
       "<style scoped>\n",
       "    .dataframe tbody tr th:only-of-type {\n",
       "        vertical-align: middle;\n",
       "    }\n",
       "\n",
       "    .dataframe tbody tr th {\n",
       "        vertical-align: top;\n",
       "    }\n",
       "\n",
       "    .dataframe thead th {\n",
       "        text-align: right;\n",
       "    }\n",
       "</style>\n",
       "<table border=\"1\" class=\"dataframe\">\n",
       "  <thead>\n",
       "    <tr style=\"text-align: right;\">\n",
       "      <th></th>\n",
       "      <th>ad_id</th>\n",
       "      <th>reporting_start</th>\n",
       "      <th>reporting_end</th>\n",
       "      <th>campaign_id</th>\n",
       "      <th>fb_campaign_id</th>\n",
       "      <th>age</th>\n",
       "      <th>gender</th>\n",
       "      <th>interest1</th>\n",
       "      <th>interest2</th>\n",
       "      <th>interest3</th>\n",
       "      <th>impressions</th>\n",
       "      <th>clicks</th>\n",
       "      <th>spent</th>\n",
       "      <th>total_conversion</th>\n",
       "      <th>approved_conversion</th>\n",
       "    </tr>\n",
       "  </thead>\n",
       "  <tbody>\n",
       "    <tr>\n",
       "      <th>0</th>\n",
       "      <td>708746</td>\n",
       "      <td>17/08/2017</td>\n",
       "      <td>17/08/2017</td>\n",
       "      <td>916</td>\n",
       "      <td>103916</td>\n",
       "      <td>30-34</td>\n",
       "      <td>M</td>\n",
       "      <td>15</td>\n",
       "      <td>17</td>\n",
       "      <td>17</td>\n",
       "      <td>7350.0</td>\n",
       "      <td>1</td>\n",
       "      <td>1.43</td>\n",
       "      <td>2.0</td>\n",
       "      <td>1.0</td>\n",
       "    </tr>\n",
       "    <tr>\n",
       "      <th>1</th>\n",
       "      <td>708749</td>\n",
       "      <td>17/08/2017</td>\n",
       "      <td>17/08/2017</td>\n",
       "      <td>916</td>\n",
       "      <td>103917</td>\n",
       "      <td>30-34</td>\n",
       "      <td>M</td>\n",
       "      <td>16</td>\n",
       "      <td>19</td>\n",
       "      <td>21</td>\n",
       "      <td>17861.0</td>\n",
       "      <td>2</td>\n",
       "      <td>1.82</td>\n",
       "      <td>2.0</td>\n",
       "      <td>0.0</td>\n",
       "    </tr>\n",
       "    <tr>\n",
       "      <th>2</th>\n",
       "      <td>708771</td>\n",
       "      <td>17/08/2017</td>\n",
       "      <td>17/08/2017</td>\n",
       "      <td>916</td>\n",
       "      <td>103920</td>\n",
       "      <td>30-34</td>\n",
       "      <td>M</td>\n",
       "      <td>20</td>\n",
       "      <td>25</td>\n",
       "      <td>22</td>\n",
       "      <td>693.0</td>\n",
       "      <td>0</td>\n",
       "      <td>0.00</td>\n",
       "      <td>1.0</td>\n",
       "      <td>0.0</td>\n",
       "    </tr>\n",
       "    <tr>\n",
       "      <th>3</th>\n",
       "      <td>708815</td>\n",
       "      <td>30/08/2017</td>\n",
       "      <td>30/08/2017</td>\n",
       "      <td>916</td>\n",
       "      <td>103928</td>\n",
       "      <td>30-34</td>\n",
       "      <td>M</td>\n",
       "      <td>28</td>\n",
       "      <td>32</td>\n",
       "      <td>32</td>\n",
       "      <td>4259.0</td>\n",
       "      <td>1</td>\n",
       "      <td>1.25</td>\n",
       "      <td>1.0</td>\n",
       "      <td>0.0</td>\n",
       "    </tr>\n",
       "    <tr>\n",
       "      <th>4</th>\n",
       "      <td>708818</td>\n",
       "      <td>17/08/2017</td>\n",
       "      <td>17/08/2017</td>\n",
       "      <td>916</td>\n",
       "      <td>103928</td>\n",
       "      <td>30-34</td>\n",
       "      <td>M</td>\n",
       "      <td>28</td>\n",
       "      <td>33</td>\n",
       "      <td>32</td>\n",
       "      <td>4133.0</td>\n",
       "      <td>1</td>\n",
       "      <td>1.29</td>\n",
       "      <td>1.0</td>\n",
       "      <td>1.0</td>\n",
       "    </tr>\n",
       "  </tbody>\n",
       "</table>\n",
       "</div>"
      ],
      "text/plain": [
       "    ad_id reporting_start reporting_end campaign_id fb_campaign_id    age  \\\n",
       "0  708746      17/08/2017    17/08/2017         916         103916  30-34   \n",
       "1  708749      17/08/2017    17/08/2017         916         103917  30-34   \n",
       "2  708771      17/08/2017    17/08/2017         916         103920  30-34   \n",
       "3  708815      30/08/2017    30/08/2017         916         103928  30-34   \n",
       "4  708818      17/08/2017    17/08/2017         916         103928  30-34   \n",
       "\n",
       "  gender  interest1  interest2  interest3  impressions  clicks  spent  \\\n",
       "0      M         15         17         17       7350.0       1   1.43   \n",
       "1      M         16         19         21      17861.0       2   1.82   \n",
       "2      M         20         25         22        693.0       0   0.00   \n",
       "3      M         28         32         32       4259.0       1   1.25   \n",
       "4      M         28         33         32       4133.0       1   1.29   \n",
       "\n",
       "   total_conversion  approved_conversion  \n",
       "0               2.0                  1.0  \n",
       "1               2.0                  0.0  \n",
       "2               1.0                  0.0  \n",
       "3               1.0                  0.0  \n",
       "4               1.0                  1.0  "
      ]
     },
     "execution_count": 3,
     "metadata": {},
     "output_type": "execute_result"
    }
   ],
   "source": [
    "facebook_data.head()"
   ]
  },
  {
   "cell_type": "code",
   "execution_count": 4,
   "id": "ce36701d-18d4-457d-aa00-de2263c16f72",
   "metadata": {},
   "outputs": [],
   "source": [
    "for col in ['reporting_start', 'reporting_end']:\n",
    "    facebook_data[col] = pd.to_datetime(facebook_data[col], format='%d/%m/%Y', errors='coerce')\n",
    "\n",
    "num_cols = ['impressions', 'clicks', 'spent', 'total_conversion', 'approved_conversion']\n",
    "for c in num_cols:\n",
    "    facebook_data[c] = pd.to_numeric(facebook_data[c], errors='coerce')\n"
   ]
  },
  {
   "cell_type": "code",
   "execution_count": 5,
   "id": "8f9c4be9-fe24-4621-a48f-9d9e1b953cf7",
   "metadata": {},
   "outputs": [],
   "source": [
    "# 3) Derive metrics\n",
    "# Avoid divide-by-zero\n",
    "facebook_data['ctr'] = np.where(facebook_data['impressions'] > 0, facebook_data['clicks'] / facebook_data['impressions'], np.nan)\n",
    "# Engagement proxy: clicks + total conversions (if available)\n",
    "facebook_data['engagement'] = facebook_data['clicks'].fillna(0) + facebook_data['total_conversion'].fillna(0)\n",
    "# CPA and CPC\n",
    "facebook_data['cpc'] = np.where(facebook_data['clicks'] > 0, facebook_data['spent'] / facebook_data['clicks'], np.nan)\n",
    "facebook_data['cpa_total'] = np.where(facebook_data['total_conversion'] > 0, facebook_data['spent'] / facebook_data['total_conversion'], np.nan)\n",
    "facebook_data['cpa_approved'] = np.where(facebook_data['approved_conversion'] > 0, facebook_data['spent'] / facebook_data['approved_conversion'], np.nan)\n"
   ]
  },
  {
   "cell_type": "code",
   "execution_count": 6,
   "id": "3e1254b3-07de-473f-8427-c49732055a8f",
   "metadata": {},
   "outputs": [],
   "source": [
    "value_per_approved = 10.0\n",
    "facebook_data['revenue_proxy'] = facebook_data['approved_conversion'].fillna(0) * value_per_approved\n",
    "facebook_data['roi_proxy'] = np.where(facebook_data['spent'] > 0, (facebook_data['revenue_proxy'] - facebook_data['spent']) / facebook_data['spent'], np.nan)\n"
   ]
  },
  {
   "cell_type": "code",
   "execution_count": 7,
   "id": "44a4c9f7-9a93-49d3-9a41-542f431fc1c2",
   "metadata": {},
   "outputs": [],
   "source": [
    "agg_cols = {\n",
    "    'impressions': 'sum',\n",
    "    'clicks': 'sum',\n",
    "    'spent': 'sum',\n",
    "    'total_conversion': 'sum',\n",
    "    'approved_conversion': 'sum'\n",
    "}\n"
   ]
  },
  {
   "cell_type": "code",
   "execution_count": 8,
   "id": "32ae7d97-a81c-4475-bfd6-543f3845ad29",
   "metadata": {},
   "outputs": [
    {
     "data": {
      "text/html": [
       "<div>\n",
       "<style scoped>\n",
       "    .dataframe tbody tr th:only-of-type {\n",
       "        vertical-align: middle;\n",
       "    }\n",
       "\n",
       "    .dataframe tbody tr th {\n",
       "        vertical-align: top;\n",
       "    }\n",
       "\n",
       "    .dataframe thead th {\n",
       "        text-align: right;\n",
       "    }\n",
       "</style>\n",
       "<table border=\"1\" class=\"dataframe\">\n",
       "  <thead>\n",
       "    <tr style=\"text-align: right;\">\n",
       "      <th></th>\n",
       "      <th>campaign_id</th>\n",
       "      <th>impressions</th>\n",
       "      <th>clicks</th>\n",
       "      <th>spent</th>\n",
       "      <th>total_conversion</th>\n",
       "      <th>approved_conversion</th>\n",
       "    </tr>\n",
       "  </thead>\n",
       "  <tbody>\n",
       "    <tr>\n",
       "      <th>0</th>\n",
       "      <td>1178</td>\n",
       "      <td>6.990248e+07</td>\n",
       "      <td>9577</td>\n",
       "      <td>16577.159998</td>\n",
       "      <td>1050.0</td>\n",
       "      <td>378.0</td>\n",
       "    </tr>\n",
       "    <tr>\n",
       "      <th>1</th>\n",
       "      <td>30-34</td>\n",
       "      <td>7.559180e+03</td>\n",
       "      <td>541</td>\n",
       "      <td>166.000000</td>\n",
       "      <td>0.0</td>\n",
       "      <td>0.0</td>\n",
       "    </tr>\n",
       "    <tr>\n",
       "      <th>2</th>\n",
       "      <td>35-39</td>\n",
       "      <td>5.966910e+03</td>\n",
       "      <td>269</td>\n",
       "      <td>78.000000</td>\n",
       "      <td>0.0</td>\n",
       "      <td>0.0</td>\n",
       "    </tr>\n",
       "    <tr>\n",
       "      <th>3</th>\n",
       "      <td>40-44</td>\n",
       "      <td>7.252100e+03</td>\n",
       "      <td>288</td>\n",
       "      <td>88.000000</td>\n",
       "      <td>0.0</td>\n",
       "      <td>0.0</td>\n",
       "    </tr>\n",
       "    <tr>\n",
       "      <th>4</th>\n",
       "      <td>45-49</td>\n",
       "      <td>1.830680e+04</td>\n",
       "      <td>521</td>\n",
       "      <td>162.000000</td>\n",
       "      <td>0.0</td>\n",
       "      <td>0.0</td>\n",
       "    </tr>\n",
       "  </tbody>\n",
       "</table>\n",
       "</div>"
      ],
      "text/plain": [
       "  campaign_id   impressions  clicks         spent  total_conversion  \\\n",
       "0        1178  6.990248e+07    9577  16577.159998            1050.0   \n",
       "1       30-34  7.559180e+03     541    166.000000               0.0   \n",
       "2       35-39  5.966910e+03     269     78.000000               0.0   \n",
       "3       40-44  7.252100e+03     288     88.000000               0.0   \n",
       "4       45-49  1.830680e+04     521    162.000000               0.0   \n",
       "\n",
       "   approved_conversion  \n",
       "0                378.0  \n",
       "1                  0.0  \n",
       "2                  0.0  \n",
       "3                  0.0  \n",
       "4                  0.0  "
      ]
     },
     "execution_count": 8,
     "metadata": {},
     "output_type": "execute_result"
    }
   ],
   "source": [
    "camp = facebook_data.groupby('campaign_id').agg(agg_cols).reset_index()\n",
    "camp.head()"
   ]
  },
  {
   "cell_type": "code",
   "execution_count": 9,
   "id": "52dab660-c81a-44f6-a639-a61a959a52eb",
   "metadata": {},
   "outputs": [
    {
     "name": "stdout",
     "output_type": "stream",
     "text": [
      "Aggregated by campaign_id:\n",
      "  campaign_id   impressions  clicks         spent  total_conversion  \\\n",
      "0        1178  6.990248e+07    9577  16577.159998            1050.0   \n",
      "1       30-34  7.559180e+03     541    166.000000               0.0   \n",
      "2       35-39  5.966910e+03     269     78.000000               0.0   \n",
      "3       40-44  7.252100e+03     288     88.000000               0.0   \n",
      "4       45-49  1.830680e+04     521    162.000000               0.0   \n",
      "\n",
      "   approved_conversion       ctr       cpc  cpa_total  cpa_approved  \\\n",
      "0                378.0  0.000137  1.730935  15.787771     43.854921   \n",
      "1                  0.0  0.071569  0.306839        NaN           NaN   \n",
      "2                  0.0  0.045082  0.289963        NaN           NaN   \n",
      "3                  0.0  0.039713  0.305556        NaN           NaN   \n",
      "4                  0.0  0.028459  0.310940        NaN           NaN   \n",
      "\n",
      "   revenue_proxy  roi_proxy  \n",
      "0         3780.0  -0.771975  \n",
      "1            0.0  -1.000000  \n",
      "2            0.0  -1.000000  \n",
      "3            0.0  -1.000000  \n",
      "4            0.0  -1.000000  \n"
     ]
    }
   ],
   "source": [
    "camp['ctr'] = np.where(camp['impressions'] > 0, camp['clicks'] / camp['impressions'], np.nan)\n",
    "camp['cpc'] = np.where(camp['clicks'] > 0, camp['spent'] / camp['clicks'], np.nan)\n",
    "camp['cpa_total'] = np.where(camp['total_conversion'] > 0, camp['spent'] / camp['total_conversion'], np.nan)\n",
    "camp['cpa_approved'] = np.where(camp['approved_conversion'] > 0, camp['spent'] / camp['approved_conversion'], np.nan)\n",
    "camp['revenue_proxy'] = camp['approved_conversion'] * value_per_approved\n",
    "camp['roi_proxy'] = np.where(camp['spent'] > 0, (camp['revenue_proxy'] - camp['spent']) / camp['spent'], np.nan)\n",
    "\n",
    "print('Aggregated by campaign_id:')\n",
    "print(camp.head())"
   ]
  },
  {
   "cell_type": "code",
   "execution_count": 10,
   "id": "0a7e4590-d920-4cc2-a0bb-85e9a03fd6be",
   "metadata": {},
   "outputs": [
    {
     "name": "stdout",
     "output_type": "stream",
     "text": [
      "Top 5 ads by engagement:\n",
      "       ad_id  impressions  clicks  total_conversion  approved_conversion  \\\n",
      "525  1121100    3052003.0     340              60.0                 17.0   \n",
      "662  1121367    1447755.0     233              11.0                  8.0   \n",
      "528  1121104    2080666.0     202              40.0                 21.0   \n",
      "574  1121196    1392288.0     206              31.0                  7.0   \n",
      "760  1121593    1177535.0     221              15.0                  3.0   \n",
      "\n",
      "     engagement       ctr       spent  \n",
      "525       400.0  0.000111  639.949998  \n",
      "662       244.0  0.000161  420.579998  \n",
      "528       242.0  0.000097  360.150001  \n",
      "574       237.0  0.000148  358.550003  \n",
      "760       236.0  0.000188  365.660001  \n",
      "Top 5 ads by CTR (min 100 impressions):\n",
      "        ad_id  impressions  clicks       ctr  spent\n",
      "1094  1314360   110.780002      21  0.189565    2.0\n",
      "1097  1314363   119.640002      20  0.167168    4.0\n",
      "1101  1314367   163.800000      23  0.140415    9.0\n",
      "1116  1314387   223.189995      31  0.138895    9.0\n",
      "1102  1314368   111.989999      12  0.107152    3.0\n"
     ]
    }
   ],
   "source": [
    "# 6) Top posts (ads) by engagement and CTR\n",
    "ads_sorted_eng =facebook_data.sort_values(['engagement', 'clicks', 'total_conversion'], ascending=[False, False, False]).head(10)\n",
    "ads_sorted_ctr = facebook_data[facebook_data['impressions'] > 100].sort_values('ctr', ascending=False).head(10)\n",
    "\n",
    "print('Top 5 ads by engagement:')\n",
    "print(ads_sorted_eng[['ad_id','impressions','clicks','total_conversion','approved_conversion','engagement','ctr','spent']].head())\n",
    "print('Top 5 ads by CTR (min 100 impressions):')\n",
    "print(ads_sorted_ctr[['ad_id','impressions','clicks','ctr','spent']].head())"
   ]
  },
  {
   "cell_type": "code",
   "execution_count": 11,
   "id": "1a29315c-aeae-464d-a55e-736274f1ee36",
   "metadata": {},
   "outputs": [
    {
     "data": {
      "image/png": "[encoded data removed]",
      "text/plain": [
       "<Figure size 600x400 with 1 Axes>"
      ]
     },
     "metadata": {},
     "output_type": "display_data"
    }
   ],
   "source": [
    "# 7) Visuals: CTR vs CPC scatter, and conversions vs spend\n",
    "sns.set(style='whitegrid')\n",
    "plt.figure(figsize=(6,4))\n",
    "plt.scatter(facebook_data['ctr']*100,facebook_data['cpc'])\n",
    "plt.xlabel('CTR (%)')\n",
    "plt.ylabel('CPC')\n",
    "plt.title('CTR vs CPC (ad level)')\n",
    "plt.show()\n",
    "\n"
   ]
  },
  {
   "cell_type": "code",
   "execution_count": 12,
   "id": "0ea2aff2-ae87-4a27-b5b5-ede3b6677f35",
   "metadata": {},
   "outputs": [
    {
     "data": {
      "image/png": "[encoded data removed]",
      "text/plain": [
       "<Figure size 600x400 with 1 Axes>"
      ]
     },
     "metadata": {},
     "output_type": "display_data"
    }
   ],
   "source": [
    "plt.figure(figsize=(6,4))\n",
    "plt.scatter(facebook_data['spent'], facebook_data['approved_conversion'])\n",
    "plt.xlabel('Spend')\n",
    "plt.ylabel('Approved Conversions')\n",
    "plt.title('Spend vs Approved Conversions (ad level)')\n",
    "plt.show()"
   ]
  },
  {
   "cell_type": "code",
   "execution_count": 13,
   "id": "74a00315-1ca8-451e-bb80-4f823d8f2a2b",
   "metadata": {},
   "outputs": [
    {
     "name": "stdout",
     "output_type": "stream",
     "text": [
      "Overall summary:\n",
      "impressions            7.855267e+07\n",
      "clicks                 1.329300e+04\n",
      "spent                  2.011424e+04\n",
      "total_conversion       1.645000e+03\n",
      "approved_conversion    5.850000e+02\n",
      "ctr                    1.692240e-04\n",
      "cpc                    1.513145e+00\n",
      "cpa_total              1.222750e+01\n",
      "cpa_approved           3.438332e+01\n",
      "revenue_proxy          5.850000e+03\n",
      "roi_proxy             -7.091613e-01\n",
      "dtype: float64\n"
     ]
    }
   ],
   "source": [
    "# 8) Summaries for recommendations\n",
    "overall = facebook_data.agg(agg_cols)\n",
    "overall['ctr'] = overall['clicks'] / overall['impressions'] if overall['impressions'] > 0 else np.nan\n",
    "overall['cpc'] = overall['spent'] / overall['clicks'] if overall['clicks'] > 0 else np.nan\n",
    "overall['cpa_total'] = overall['spent'] / overall['total_conversion'] if overall['total_conversion'] > 0 else np.nan\n",
    "overall['cpa_approved'] = overall['spent'] / overall['approved_conversion'] if overall['approved_conversion'] > 0 else np.nan\n",
    "overall['revenue_proxy'] = overall['approved_conversion'] * value_per_approved\n",
    "overall['roi_proxy'] = (overall['revenue_proxy'] - overall['spent']) / overall['spent'] if overall['spent'] > 0 else np.nan\n",
    "\n",
    "print('Overall summary:')\n",
    "print(overall)"
   ]
  },
  {
   "cell_type": "code",
   "execution_count": null,
   "id": "46a92f13-9924-462c-8282-d91ca04b7eeb",
   "metadata": {},
   "outputs": [],
   "source": []
  },
  {
   "cell_type": "code",
   "execution_count": null,
   "id": "0025f0e9-de9e-465d-b85a-76cc53aa3596",
   "metadata": {},
   "outputs": [],
   "source": []
  },
  {
   "cell_type": "code",
   "execution_count": null,
   "id": "34a6f16e-2818-4060-b935-12be219d3ca3",
   "metadata": {},
   "outputs": [],
   "source": []
  },
  {
   "cell_type": "code",
   "execution_count": null,
   "id": "0ce5e3ce-2a8b-44b5-b88a-af9e352e9f51",
   "metadata": {},
   "outputs": [],
   "source": []
  },
  {
   "cell_type": "code",
   "execution_count": null,
   "id": "714b9105-4551-43bc-b47b-ef4eb2b38efe",
   "metadata": {},
   "outputs": [],
   "source": []
  },
  {
   "cell_type": "code",
   "execution_count": null,
   "id": "c705f0bd-7d93-44f2-b741-d84542dafc49",
   "metadata": {},
   "outputs": [],
   "source": []
  },
  {
   "cell_type": "code",
   "execution_count": null,
   "id": "05524814-b262-4424-ad22-e9fe141a2f9c",
   "metadata": {},
   "outputs": [],
   "source": []
  },
  {
   "cell_type": "code",
   "execution_count": null,
   "id": "704e4066-c9be-4c22-b370-d9fbf4ce8801",
   "metadata": {},
   "outputs": [],
   "source": []
  },
  {
   "cell_type": "code",
   "execution_count": null,
   "id": "0d17dd4d-21fd-4bc2-afd3-00decaace629",
   "metadata": {},
   "outputs": [],
   "source": []
  },
  {
   "cell_type": "code",
   "execution_count": null,
   "id": "c7fd8d67-890f-416f-a259-4c4507c5a5e0",
   "metadata": {},
   "outputs": [],
   "source": []
  },
  {
   "cell_type": "code",
   "execution_count": null,
   "id": "cf22e992-0832-4548-a962-0284fd347098",
   "metadata": {},
   "outputs": [],
   "source": []
  },
  {
   "cell_type": "code",
   "execution_count": null,
   "id": "b85c87ab-3efe-4c42-a1da-6c39ae13be08",
   "metadata": {},
   "outputs": [],
   "source": []
  },
  {
   "cell_type": "code",
   "execution_count": null,
   "id": "8ab1a044-17ac-4d0e-88e7-c7f040cfa285",
   "metadata": {},
   "outputs": [],
   "source": []
  },
  {
   "cell_type": "code",
   "execution_count": null,
   "id": "5e0a7ae7-1563-452a-b280-b8351d058dcf",
   "metadata": {},
   "outputs": [],
   "source": []
  },
  {
   "cell_type": "code",
   "execution_count": null,
   "id": "69ba2763-1ae2-4bbe-94ea-f952f14eadb2",
   "metadata": {},
   "outputs": [],
   "source": []
  }
 ],
 "metadata": {
  "kernelspec": {
   "display_name": "Python 3 (ipykernel)",
   "language": "python",
   "name": "python3"
  },
  "language_info": {
   "codemirror_mode": {
    "name": "ipython",
    "version": 3
   },
   "file_extension": ".py",
   "mimetype": "text/x-python",
   "name": "python",
   "nbconvert_exporter": "python",
   "pygments_lexer": "ipython3",
   "version": "3.12.7"
  }
 },
 "nbformat": 4,
 "nbformat_minor": 5
}
